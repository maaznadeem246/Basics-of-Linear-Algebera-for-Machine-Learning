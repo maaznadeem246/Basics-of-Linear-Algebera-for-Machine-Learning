{
 "cells": [
  {
   "cell_type": "markdown",
   "metadata": {},
   "source": [
    "<h1>Chapter 4</h1>\n",
    "<h1>Introduction to Numpy Array</h1>"
   ]
  },
  {
   "cell_type": "code",
   "execution_count": 2,
   "metadata": {},
   "outputs": [
    {
     "name": "stdout",
     "output_type": "stream",
     "text": [
      "[1. 2. 3.]\n",
      "(3,)\n",
      "float64\n"
     ]
    }
   ],
   "source": [
    "# import array\n",
    "from numpy import array\n",
    "#create array\n",
    "l = [1.0,2.0,3.0]\n",
    "a = array(l)\n",
    "#display array\n",
    "print(a)\n",
    "#display array shape\n",
    "print(a.shape)\n",
    "#display array data type\n",
    "print(a.dtype)"
   ]
  },
  {
   "cell_type": "markdown",
   "metadata": {},
   "source": [
    "<h2>Functions to Create Arrays</h2>"
   ]
  },
  {
   "cell_type": "markdown",
   "metadata": {},
   "source": [
    "<h3>Empty</h3>"
   ]
  },
  {
   "cell_type": "code",
   "execution_count": 3,
   "metadata": {},
   "outputs": [
    {
     "name": "stdout",
     "output_type": "stream",
     "text": [
      "[[0.00000000e+000 0.00000000e+000 0.00000000e+000]\n",
      " [0.00000000e+000 0.00000000e+000 6.28451502e-321]\n",
      " [1.11261162e-306 1.69119330e-306 5.98149572e-154]]\n"
     ]
    }
   ],
   "source": [
    "from numpy import empty\n",
    "a = empty([3,3])\n",
    "print(a)"
   ]
  },
  {
   "cell_type": "markdown",
   "metadata": {},
   "source": [
    "<h3>Zeros</h3>"
   ]
  },
  {
   "cell_type": "code",
   "execution_count": 4,
   "metadata": {},
   "outputs": [
    {
     "name": "stdout",
     "output_type": "stream",
     "text": [
      "[[0. 0. 0. 0. 0.]\n",
      " [0. 0. 0. 0. 0.]\n",
      " [0. 0. 0. 0. 0.]]\n"
     ]
    }
   ],
   "source": [
    "from numpy import zeros\n",
    "a = zeros([3,5])\n",
    "print(a)"
   ]
  },
  {
   "cell_type": "markdown",
   "metadata": {},
   "source": [
    "<h3>Ones</h3>"
   ]
  },
  {
   "cell_type": "code",
   "execution_count": 5,
   "metadata": {},
   "outputs": [
    {
     "name": "stdout",
     "output_type": "stream",
     "text": [
      "[1. 1. 1. 1. 1.]\n"
     ]
    }
   ],
   "source": [
    "from numpy import ones\n",
    "a = ones([5])\n",
    "print(a)"
   ]
  },
  {
   "cell_type": "markdown",
   "metadata": {},
   "source": [
    "<h2>Combining Arrays</h2>"
   ]
  },
  {
   "cell_type": "markdown",
   "metadata": {},
   "source": [
    "<h3>Vertical Stack</h3>"
   ]
  },
  {
   "cell_type": "code",
   "execution_count": 6,
   "metadata": {},
   "outputs": [
    {
     "name": "stdout",
     "output_type": "stream",
     "text": [
      "[1 2 3]\n",
      "[4 5 6]\n",
      "[[1 2 3]\n",
      " [4 5 6]]\n",
      "(2, 3)\n"
     ]
    }
   ],
   "source": [
    "#create array with vstack\n",
    "from numpy import array\n",
    "from numpy import vstack\n",
    "#create first array\n",
    "a1 = array([1,2,3])\n",
    "print(a1)\n",
    "#create second array\n",
    "a2 = array([4,5,6])\n",
    "print(a2)\n",
    "#vertical stack\n",
    "a3 = vstack((a1, a2))\n",
    "print(a3)\n",
    "print(a3.shape)"
   ]
  },
  {
   "cell_type": "markdown",
   "metadata": {},
   "source": [
    "<h3>Horizontal Stack</h3>"
   ]
  },
  {
   "cell_type": "code",
   "execution_count": 7,
   "metadata": {},
   "outputs": [
    {
     "name": "stdout",
     "output_type": "stream",
     "text": [
      "[1 2 3]\n",
      "[4 5 6]\n",
      "[1 2 3 4 5 6]\n",
      "(6,)\n"
     ]
    }
   ],
   "source": [
    "#create array with hstack\n",
    "from numpy import array\n",
    "from numpy import hstack\n",
    "#create first array\n",
    "a1 = array([1,2,3])\n",
    "print(a1)\n",
    "#create second array\n",
    "a2 = array([4,5,6])\n",
    "print(a2)\n",
    "#vertical stack\n",
    "a3 = hstack((a1, a2))\n",
    "print(a3)\n",
    "print(a3.shape)"
   ]
  },
  {
   "cell_type": "markdown",
   "metadata": {},
   "source": [
    "<h1>Chapter 5</h1>\n",
    "<h1>Index, Slice and Reshape Numpy Arrays</h1>"
   ]
  },
  {
   "cell_type": "markdown",
   "metadata": {},
   "source": [
    "<h2>From List to Arrays</h2>"
   ]
  },
  {
   "cell_type": "markdown",
   "metadata": {},
   "source": [
    "<h3>One-Dimensial List to Array</h3>"
   ]
  },
  {
   "cell_type": "code",
   "execution_count": 8,
   "metadata": {},
   "outputs": [
    {
     "name": "stdout",
     "output_type": "stream",
     "text": [
      "[11 22 33 44 55]\n",
      "<class 'numpy.ndarray'>\n"
     ]
    }
   ],
   "source": [
    "# create one-dimensional array\n",
    "from numpy import array\n",
    "#list of data\n",
    "data = [11,22,33,44,55]\n",
    "#array of data\n",
    "data  =  array(data)\n",
    "print(data)\n",
    "print(type(data))"
   ]
  },
  {
   "cell_type": "markdown",
   "metadata": {},
   "source": [
    "<h2>Array Indexing</h2>"
   ]
  },
  {
   "cell_type": "markdown",
   "metadata": {},
   "source": [
    "<h3>One-Dimensional Indexing</h3>"
   ]
  },
  {
   "cell_type": "code",
   "execution_count": 9,
   "metadata": {},
   "outputs": [
    {
     "name": "stdout",
     "output_type": "stream",
     "text": [
      "11\n",
      "55\n"
     ]
    }
   ],
   "source": [
    "#index a one-dimensional array\n",
    "from numpy import array\n",
    "#define array\n",
    "data = array([11,22,33,44,55])\n",
    "#index data\n",
    "print(data[0])\n",
    "print(data[4])"
   ]
  },
  {
   "cell_type": "code",
   "execution_count": 10,
   "metadata": {},
   "outputs": [
    {
     "name": "stdout",
     "output_type": "stream",
     "text": [
      "IndexError : index is out of bounds for axis 0 with size 5\n"
     ]
    }
   ],
   "source": [
    "#index array out of bounds \n",
    "from numpy import array\n",
    "#define array\n",
    "data = array([11,22,33,44,55])\n",
    "#index data \n",
    "try:\n",
    "    print(data[5])\n",
    "except:\n",
    "    print('IndexError : index is out of bounds for axis 0 with size 5')"
   ]
  },
  {
   "cell_type": "code",
   "execution_count": 11,
   "metadata": {},
   "outputs": [
    {
     "name": "stdout",
     "output_type": "stream",
     "text": [
      "55\n",
      "11\n"
     ]
    }
   ],
   "source": [
    "#negative array indexing\n",
    "from numpy import array\n",
    "#define array\n",
    "data  = array([11,22,33,44,55])\n",
    "#index data \n",
    "print(data[-1])\n",
    "print(data[-5])"
   ]
  },
  {
   "cell_type": "markdown",
   "metadata": {},
   "source": [
    "<h3>Two-Dimensional Indexing</h3>"
   ]
  },
  {
   "cell_type": "code",
   "execution_count": 12,
   "metadata": {},
   "outputs": [
    {
     "name": "stdout",
     "output_type": "stream",
     "text": [
      "11\n",
      "11\n"
     ]
    }
   ],
   "source": [
    "# index two-dimensional array\n",
    "from numpy import array\n",
    "# define array\n",
    "data = array([\n",
    "    [11,22],\n",
    "    [33,44],\n",
    "    [55,66]\n",
    "])\n",
    "# index data\n",
    "print(data[0,0])\n",
    "print(data[0][0])"
   ]
  },
  {
   "cell_type": "code",
   "execution_count": 13,
   "metadata": {},
   "outputs": [
    {
     "name": "stdout",
     "output_type": "stream",
     "text": [
      "[11 22]\n"
     ]
    }
   ],
   "source": [
    "#index row of two-dimensional array\n",
    "from numpy import array\n",
    "# define array\n",
    "data = array([\n",
    "    [11,22],\n",
    "    [33,44],\n",
    "    [55,66]\n",
    "])\n",
    "# index data\n",
    "print(data[0,])\n"
   ]
  },
  {
   "cell_type": "markdown",
   "metadata": {},
   "source": [
    "<h2>Array Slicing</h2>"
   ]
  },
  {
   "cell_type": "markdown",
   "metadata": {},
   "source": [
    "<h3>One-Dimnesional Slicing</h3>"
   ]
  },
  {
   "cell_type": "code",
   "execution_count": 15,
   "metadata": {},
   "outputs": [
    {
     "name": "stdout",
     "output_type": "stream",
     "text": [
      "[11 22 33 44 55]\n"
     ]
    }
   ],
   "source": [
    "#slice a one-dimensional array\n",
    "from numpy import array\n",
    "# define array\n",
    "data = array([11,22,33,44,55])\n",
    "print(data[:])"
   ]
  },
  {
   "cell_type": "code",
   "execution_count": 16,
   "metadata": {},
   "outputs": [
    {
     "name": "stdout",
     "output_type": "stream",
     "text": [
      "[11]\n"
     ]
    }
   ],
   "source": [
    "# slice a subset of a one-dimensional array\n",
    "from numpy import array\n",
    "# define array\n",
    "data = array([11,22,33,44,55])\n",
    "print(data[0:1])"
   ]
  },
  {
   "cell_type": "code",
   "execution_count": 17,
   "metadata": {},
   "outputs": [
    {
     "name": "stdout",
     "output_type": "stream",
     "text": [
      "[44 55]\n"
     ]
    }
   ],
   "source": [
    "# negative slicing  of a one-dimensional array\n",
    "from numpy import array\n",
    "# define array\n",
    "data = array([11,22,33,44,55])\n",
    "print(data[-2:])"
   ]
  },
  {
   "cell_type": "markdown",
   "metadata": {},
   "source": [
    "<h3>Two-Dimensional Slicing</h3>"
   ]
  },
  {
   "cell_type": "code",
   "execution_count": 18,
   "metadata": {},
   "outputs": [
    {
     "name": "stdout",
     "output_type": "stream",
     "text": [
      "[[11 22]\n",
      " [44 55]\n",
      " [77 88]]\n",
      "[33 66 99]\n"
     ]
    }
   ],
   "source": [
    "# split input and output data \n",
    "from numpy import array \n",
    "# define array \n",
    "data = array([ [11, 22, 33], [44, 55, 66], [77, 88, 99]]) \n",
    "# separate data \n",
    "X, y = data[:, :-1], data[:, -1] \n",
    "print(X) \n",
    "print(y)"
   ]
  },
  {
   "cell_type": "code",
   "execution_count": 19,
   "metadata": {},
   "outputs": [
    {
     "name": "stdout",
     "output_type": "stream",
     "text": [
      "[[11 22 33]\n",
      " [44 55 66]]\n",
      "[[77 88 99]]\n"
     ]
    }
   ],
   "source": [
    "# split train and test data \n",
    "from numpy import array \n",
    "# define array \n",
    "data = array([ [11, 22, 33], [44, 55, 66], [77, 88, 99]]) \n",
    "# separate data \n",
    "split = 2 \n",
    "train,test = data[:split,:],data[split:,:] \n",
    "print(train) \n",
    "print(test)"
   ]
  },
  {
   "cell_type": "markdown",
   "metadata": {},
   "source": [
    "<h2>Array Reshaping</h2>"
   ]
  },
  {
   "cell_type": "markdown",
   "metadata": {},
   "source": [
    "<h3>Data Shape</h3>"
   ]
  },
  {
   "cell_type": "code",
   "execution_count": 22,
   "metadata": {},
   "outputs": [
    {
     "name": "stdout",
     "output_type": "stream",
     "text": [
      "(5,)\n"
     ]
    }
   ],
   "source": [
    "# shape of one-dimensional array \n",
    "from numpy import array \n",
    "# define array \n",
    "data = array([11, 22, 33, 44, 55]) \n",
    "print(data.shape)"
   ]
  },
  {
   "cell_type": "code",
   "execution_count": 23,
   "metadata": {},
   "outputs": [
    {
     "name": "stdout",
     "output_type": "stream",
     "text": [
      "(3, 2)\n"
     ]
    }
   ],
   "source": [
    "# shape of a two-dimensional array \n",
    "from numpy import array \n",
    "# list of data \n",
    "data = [[11, 22], [33, 44], [55, 66]] \n",
    "# array of data \n",
    "data = array(data) \n",
    "print(data.shape)"
   ]
  },
  {
   "cell_type": "code",
   "execution_count": 24,
   "metadata": {},
   "outputs": [
    {
     "name": "stdout",
     "output_type": "stream",
     "text": [
      "Rows: 3\n",
      "Cols: 2\n"
     ]
    }
   ],
   "source": [
    "# row and column shape of two-dimensional array \n",
    "from numpy import array \n",
    "# list of data \n",
    "data = [[11, 22],[33, 44], [55, 66]] \n",
    "# array of data \n",
    "data = array(data) \n",
    "print('Rows: %d' % data.shape[0]) \n",
    "print('Cols: %d' % data.shape[1])"
   ]
  },
  {
   "cell_type": "code",
   "execution_count": 25,
   "metadata": {},
   "outputs": [
    {
     "name": "stdout",
     "output_type": "stream",
     "text": [
      "(5,)\n",
      "(5, 1)\n"
     ]
    }
   ],
   "source": [
    "# reshape 1D array to 2D \n",
    "from numpy import array \n",
    "# define array \n",
    "data = array([11, 22, 33, 44, 55]) \n",
    "print(data.shape) \n",
    "# reshape \n",
    "data = data.reshape((data.shape[0], 1)) \n",
    "print(data.shape)\n"
   ]
  },
  {
   "cell_type": "markdown",
   "metadata": {},
   "source": [
    "<h3>Reshape 2D to 3D Array</h3>"
   ]
  },
  {
   "cell_type": "code",
   "execution_count": 27,
   "metadata": {},
   "outputs": [
    {
     "name": "stdout",
     "output_type": "stream",
     "text": [
      "(3, 2)\n",
      "(3, 2, 1)\n"
     ]
    }
   ],
   "source": [
    "#reshape 2D array to 3D\n",
    "from numpy import array\n",
    "#list of data\n",
    "data = [[11,22],[33,44],[55,66]]\n",
    "#array of data\n",
    "data = array(data)\n",
    "print(data.shape)\n",
    "#reshape \n",
    "data = data.reshape((data.shape[0], data.shape[1],1))\n",
    "print(data.shape)"
   ]
  },
  {
   "cell_type": "code",
   "execution_count": 28,
   "metadata": {},
   "outputs": [
    {
     "name": "stdout",
     "output_type": "stream",
     "text": [
      "[[[11]\n",
      "  [22]]\n",
      "\n",
      " [[33]\n",
      "  [44]]\n",
      "\n",
      " [[55]\n",
      "  [66]]]\n"
     ]
    }
   ],
   "source": [
    "print(data)"
   ]
  },
  {
   "cell_type": "code",
   "execution_count": null,
   "metadata": {},
   "outputs": [],
   "source": []
  }
 ],
 "metadata": {
  "kernelspec": {
   "display_name": "Python 3",
   "language": "python",
   "name": "python3"
  },
  "language_info": {
   "codemirror_mode": {
    "name": "ipython",
    "version": 3
   },
   "file_extension": ".py",
   "mimetype": "text/x-python",
   "name": "python",
   "nbconvert_exporter": "python",
   "pygments_lexer": "ipython3",
   "version": "3.6.5"
  }
 },
 "nbformat": 4,
 "nbformat_minor": 2
}
